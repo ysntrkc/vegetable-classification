{
 "cells": [
  {
   "cell_type": "code",
   "execution_count": 2,
   "metadata": {},
   "outputs": [],
   "source": [
    "import torch\n",
    "import torch.nn as nn\n",
    "import torch.nn.functional as F\n",
    "\n",
    "from model.CNN import CNN\n",
    "from utils.utils import evaluate_model, get_data_loaders"
   ]
  },
  {
   "cell_type": "code",
   "execution_count": 3,
   "metadata": {},
   "outputs": [],
   "source": [
    "_, _, test_dataloader = get_data_loaders(16)\n",
    "model = CNN(15)\n",
    "model.load_state_dict(torch.load(\"../models/cnn.pt\"))\n",
    "model.to(\"cuda\")\n",
    "loss_fn = nn.CrossEntropyLoss()"
   ]
  },
  {
   "cell_type": "code",
   "execution_count": 4,
   "metadata": {},
   "outputs": [
    {
     "name": "stdout",
     "output_type": "stream",
     "text": [
      "              precision    recall  f1-score   support\n",
      "\n",
      "           0       0.52      0.65      0.57       200\n",
      "           1       0.69      0.79      0.74       200\n",
      "           2       0.89      0.51      0.65       200\n",
      "           3       0.47      0.73      0.57       200\n",
      "           4       0.71      0.69      0.70       200\n",
      "           5       0.61      0.69      0.65       200\n",
      "           6       0.90      0.73      0.80       200\n",
      "           7       0.93      0.93      0.93       200\n",
      "           8       0.74      0.80      0.76       200\n",
      "           9       0.61      0.54      0.57       200\n",
      "          10       0.64      0.36      0.46       200\n",
      "          11       0.83      0.82      0.83       200\n",
      "          12       0.64      0.67      0.66       200\n",
      "          13       0.83      0.86      0.84       200\n",
      "          14       0.63      0.60      0.62       200\n",
      "\n",
      "    accuracy                           0.69      3000\n",
      "   macro avg       0.71      0.69      0.69      3000\n",
      "weighted avg       0.71      0.69      0.69      3000\n",
      "\n"
     ]
    }
   ],
   "source": [
    "from sklearn.metrics import confusion_matrix, classification_report\n",
    "\n",
    "preds = []\n",
    "Y = []\n",
    "\n",
    "for x_batch, y_batch in test_dataloader:\n",
    "\tx_batch, y_batch = x_batch.to(\"cuda\"), y_batch.to(\"cuda\")\n",
    "\tpred = model(x_batch)\n",
    "\tpreds.extend(torch.argmax(pred, dim=1).cpu().numpy())\n",
    "\tY.extend(y_batch.cpu().numpy())\n",
    " \n",
    "print(classification_report(Y, preds))\n"
   ]
  }
 ],
 "metadata": {
  "kernelspec": {
   "display_name": "base",
   "language": "python",
   "name": "python3"
  },
  "language_info": {
   "codemirror_mode": {
    "name": "ipython",
    "version": 3
   },
   "file_extension": ".py",
   "mimetype": "text/x-python",
   "name": "python",
   "nbconvert_exporter": "python",
   "pygments_lexer": "ipython3",
   "version": "3.10.8"
  },
  "orig_nbformat": 4,
  "vscode": {
   "interpreter": {
    "hash": "c55a81c10ddf66393adeb3fadc6a6d251f8ee8bd2472ec2f95cd10b64a1ac4dd"
   }
  }
 },
 "nbformat": 4,
 "nbformat_minor": 2
}
